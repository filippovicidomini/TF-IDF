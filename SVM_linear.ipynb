{
 "cells": [
  {
   "cell_type": "code",
   "execution_count": 1,
   "outputs": [],
   "source": [
    "import pandas as pd\n",
    "from sklearn.model_selection import train_test_split\n",
    "from sklearn.svm import SVC\n",
    "from sklearn.metrics import classification_report, accuracy_score\n",
    "import time\n",
    "import matplotlib.pyplot as plt\n",
    "import seaborn as sn\n",
    "from sklearn.metrics import confusion_matrix\n",
    "from sklearn.model_selection import cross_val_score\n",
    "import numpy as np"
   ],
   "metadata": {
    "collapsed": false
   }
  },
  {
   "cell_type": "code",
   "execution_count": 2,
   "outputs": [
    {
     "data": {
      "text/plain": "          1        2         3    4         5         6         7         8  \\\n0  0.000000  1.04567  0.570084  0.0  0.309696  0.000000  0.000000  0.000000   \n1  0.309672  0.45748  0.445378  0.0  0.135492  0.427637  0.365548  0.120390   \n2  0.088478  0.00000  0.632436  0.0  1.190396  0.290182  0.330734  0.206383   \n3  0.000000  0.00000  0.000000  0.0  0.609715  0.000000  0.539619  1.083511   \n4  0.000000  0.00000  0.000000  0.0  0.609715  0.000000  0.539619  1.083511   \n\n          9        10  ...        46   47   48       49        50   51  \\\n0  0.000000  0.000000  ...  0.000000  0.0  0.0  0.00000  0.000000  0.0   \n1  0.000000  1.186630  ...  0.000000  0.0  0.0  0.00000  0.069628  0.0   \n2  1.141600  0.315593  ...  0.131159  0.0  0.0  0.01762  0.075430  0.0   \n3  0.552962  0.795294  ...  0.000000  0.0  0.0  0.00000  0.072265  0.0   \n4  0.552962  0.795294  ...  0.000000  0.0  0.0  0.00000  0.071210  0.0   \n\n         52        53       54  targhet  \n0  0.553776  0.000000  0.00000        1  \n1  0.264787  0.214164  0.08707        1  \n2  0.196455  0.218923  0.01814        1  \n3  0.097516  0.000000  0.00000        1  \n4  0.096092  0.000000  0.00000        1  \n\n[5 rows x 55 columns]",
      "text/html": "<div>\n<style scoped>\n    .dataframe tbody tr th:only-of-type {\n        vertical-align: middle;\n    }\n\n    .dataframe tbody tr th {\n        vertical-align: top;\n    }\n\n    .dataframe thead th {\n        text-align: right;\n    }\n</style>\n<table border=\"1\" class=\"dataframe\">\n  <thead>\n    <tr style=\"text-align: right;\">\n      <th></th>\n      <th>1</th>\n      <th>2</th>\n      <th>3</th>\n      <th>4</th>\n      <th>5</th>\n      <th>6</th>\n      <th>7</th>\n      <th>8</th>\n      <th>9</th>\n      <th>10</th>\n      <th>...</th>\n      <th>46</th>\n      <th>47</th>\n      <th>48</th>\n      <th>49</th>\n      <th>50</th>\n      <th>51</th>\n      <th>52</th>\n      <th>53</th>\n      <th>54</th>\n      <th>targhet</th>\n    </tr>\n  </thead>\n  <tbody>\n    <tr>\n      <th>0</th>\n      <td>0.000000</td>\n      <td>1.04567</td>\n      <td>0.570084</td>\n      <td>0.0</td>\n      <td>0.309696</td>\n      <td>0.000000</td>\n      <td>0.000000</td>\n      <td>0.000000</td>\n      <td>0.000000</td>\n      <td>0.000000</td>\n      <td>...</td>\n      <td>0.000000</td>\n      <td>0.0</td>\n      <td>0.0</td>\n      <td>0.00000</td>\n      <td>0.000000</td>\n      <td>0.0</td>\n      <td>0.553776</td>\n      <td>0.000000</td>\n      <td>0.00000</td>\n      <td>1</td>\n    </tr>\n    <tr>\n      <th>1</th>\n      <td>0.309672</td>\n      <td>0.45748</td>\n      <td>0.445378</td>\n      <td>0.0</td>\n      <td>0.135492</td>\n      <td>0.427637</td>\n      <td>0.365548</td>\n      <td>0.120390</td>\n      <td>0.000000</td>\n      <td>1.186630</td>\n      <td>...</td>\n      <td>0.000000</td>\n      <td>0.0</td>\n      <td>0.0</td>\n      <td>0.00000</td>\n      <td>0.069628</td>\n      <td>0.0</td>\n      <td>0.264787</td>\n      <td>0.214164</td>\n      <td>0.08707</td>\n      <td>1</td>\n    </tr>\n    <tr>\n      <th>2</th>\n      <td>0.088478</td>\n      <td>0.00000</td>\n      <td>0.632436</td>\n      <td>0.0</td>\n      <td>1.190396</td>\n      <td>0.290182</td>\n      <td>0.330734</td>\n      <td>0.206383</td>\n      <td>1.141600</td>\n      <td>0.315593</td>\n      <td>...</td>\n      <td>0.131159</td>\n      <td>0.0</td>\n      <td>0.0</td>\n      <td>0.01762</td>\n      <td>0.075430</td>\n      <td>0.0</td>\n      <td>0.196455</td>\n      <td>0.218923</td>\n      <td>0.01814</td>\n      <td>1</td>\n    </tr>\n    <tr>\n      <th>3</th>\n      <td>0.000000</td>\n      <td>0.00000</td>\n      <td>0.000000</td>\n      <td>0.0</td>\n      <td>0.609715</td>\n      <td>0.000000</td>\n      <td>0.539619</td>\n      <td>1.083511</td>\n      <td>0.552962</td>\n      <td>0.795294</td>\n      <td>...</td>\n      <td>0.000000</td>\n      <td>0.0</td>\n      <td>0.0</td>\n      <td>0.00000</td>\n      <td>0.072265</td>\n      <td>0.0</td>\n      <td>0.097516</td>\n      <td>0.000000</td>\n      <td>0.00000</td>\n      <td>1</td>\n    </tr>\n    <tr>\n      <th>4</th>\n      <td>0.000000</td>\n      <td>0.00000</td>\n      <td>0.000000</td>\n      <td>0.0</td>\n      <td>0.609715</td>\n      <td>0.000000</td>\n      <td>0.539619</td>\n      <td>1.083511</td>\n      <td>0.552962</td>\n      <td>0.795294</td>\n      <td>...</td>\n      <td>0.000000</td>\n      <td>0.0</td>\n      <td>0.0</td>\n      <td>0.00000</td>\n      <td>0.071210</td>\n      <td>0.0</td>\n      <td>0.096092</td>\n      <td>0.000000</td>\n      <td>0.00000</td>\n      <td>1</td>\n    </tr>\n  </tbody>\n</table>\n<p>5 rows × 55 columns</p>\n</div>"
     },
     "execution_count": 2,
     "metadata": {},
     "output_type": "execute_result"
    }
   ],
   "source": [
    "spam_data = pd.read_csv('spam_tfidf.csv', index_col=[0])\n",
    "spam_data.head()"
   ],
   "metadata": {
    "collapsed": false
   }
  },
  {
   "cell_type": "code",
   "execution_count": 3,
   "outputs": [],
   "source": [
    "# data processing\n",
    "X = spam_data.drop('targhet', axis=1)\n",
    "y = spam_data['targhet']  # colonna che segna se è o meno spam\n",
    "\n",
    "X_train, X_test, y_train, y_test = train_test_split(X, y, test_size=0.20)"
   ],
   "metadata": {
    "collapsed": false
   }
  },
  {
   "cell_type": "code",
   "execution_count": null,
   "outputs": [
    {
     "name": "stdout",
     "output_type": "stream",
     "text": [
      "Training time with C = 0: 2.181444\n",
      "Prediction time: 0.093436\n",
      "Miss-classified examples: 79\n",
      "Accuracy: 0.914\n",
      "acccuratezza media con C=1.0: 0.9095826652834104\n",
      "Training time with C = 1: 7.179277\n",
      "Prediction time: 0.070986\n",
      "Miss-classified examples: 81\n",
      "Accuracy: 0.912\n",
      "acccuratezza media con C=10.0: 0.9069734980665849\n",
      "Training time with C = 2: 32.216173\n",
      "Prediction time: 0.048493\n",
      "Miss-classified examples: 81\n",
      "Accuracy: 0.912\n"
     ]
    }
   ],
   "source": [
    "# qui faccio il learning\n",
    "%matplotlib inline\n",
    "# voglio fare cross validation usando vari valori di C\n",
    "c: list = [1.0, 10.0, 100.0, 1000.0]\n",
    "fig, axs = plt.subplots(1, len(c), figsize=(15, 3))\n",
    "\n",
    "for i,j in enumerate(c):\n",
    "    svcclassifier = SVC(kernel='linear', C=j)\n",
    "    start_time = time.time()\n",
    "    svcclassifier.fit(X_train, y_train)\n",
    "    print(f'Training time with C = {i}: %f' % (time.time() - start_time))\n",
    "    start_time = time.time()\n",
    "    y_predict = svcclassifier.predict(X_test)\n",
    "    print('Prediction time: %f' % (time.time() - start_time))\n",
    "    print('Miss-classified examples: %d' % (y_test != y_predict).sum())\n",
    "    print('Accuracy: %.3f' % accuracy_score(y_test, y_predict))\n",
    "    score = cross_val_score(svcclassifier, X, y, cv=10)\n",
    "    print(f'acccuratezza media con C={c[i]}: {np.mean(score)}')\n",
    "    cm = confusion_matrix(y_test, y_predict)\n",
    "    sn.heatmap(cm, annot=True, ax=axs[i])\n",
    "    axs[i].set_title('Confusion matrix with C = {j} \\n accuracy media: %.5f' %np.mean(score))\n",
    "plt.show()"
   ],
   "metadata": {
    "collapsed": false,
    "pycharm": {
     "is_executing": true
    }
   }
  },
  {
   "cell_type": "code",
   "execution_count": null,
   "outputs": [],
   "source": [
    "fig.savefig('confusion matrix per svm lineare.png', bbox_inches='tight')"
   ],
   "metadata": {
    "collapsed": false,
    "pycharm": {
     "is_executing": true
    }
   }
  },
  {
   "cell_type": "code",
   "execution_count": null,
   "outputs": [],
   "source": [],
   "metadata": {
    "collapsed": false,
    "pycharm": {
     "is_executing": true
    }
   }
  },
  {
   "cell_type": "code",
   "execution_count": null,
   "outputs": [],
   "source": [
    "\n"
   ],
   "metadata": {
    "collapsed": false,
    "pycharm": {
     "is_executing": true
    }
   }
  },
  {
   "cell_type": "code",
   "execution_count": null,
   "outputs": [],
   "source": [],
   "metadata": {
    "collapsed": false
   }
  }
 ],
 "metadata": {
  "kernelspec": {
   "display_name": "Python 3 (ipykernel)",
   "language": "python",
   "name": "python3"
  },
  "language_info": {
   "codemirror_mode": {
    "name": "ipython",
    "version": 2
   },
   "file_extension": ".py",
   "mimetype": "text/x-python",
   "name": "python",
   "nbconvert_exporter": "python",
   "pygments_lexer": "ipython2",
   "version": "2.7.6"
  }
 },
 "nbformat": 4,
 "nbformat_minor": 1
}
