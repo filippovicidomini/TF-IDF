{
 "cells": [
  {
   "cell_type": "code",
   "execution_count": 1,
   "metadata": {
    "collapsed": true
   },
   "outputs": [],
   "source": [
    "import pandas as pd\n",
    "import matplotlib.pyplot as plt\n",
    "import time"
   ]
  },
  {
   "cell_type": "code",
   "execution_count": 4,
   "outputs": [
    {
     "data": {
      "text/plain": "          1        2         3    4         5         6         7         8  \\\n0  0.000000  1.04567  0.570084  0.0  0.309696  0.000000  0.000000  0.000000   \n1  0.309672  0.45748  0.445378  0.0  0.135492  0.427637  0.365548  0.120390   \n2  0.088478  0.00000  0.632436  0.0  1.190396  0.290182  0.330734  0.206383   \n3  0.000000  0.00000  0.000000  0.0  0.609715  0.000000  0.539619  1.083511   \n4  0.000000  0.00000  0.000000  0.0  0.609715  0.000000  0.539619  1.083511   \n\n          9        10  ...        46   47   48       49        50   51  \\\n0  0.000000  0.000000  ...  0.000000  0.0  0.0  0.00000  0.000000  0.0   \n1  0.000000  1.186630  ...  0.000000  0.0  0.0  0.00000  0.069628  0.0   \n2  1.141600  0.315593  ...  0.131159  0.0  0.0  0.01762  0.075430  0.0   \n3  0.552962  0.795294  ...  0.000000  0.0  0.0  0.00000  0.072265  0.0   \n4  0.552962  0.795294  ...  0.000000  0.0  0.0  0.00000  0.071210  0.0   \n\n         52        53       54  targhet  \n0  0.553776  0.000000  0.00000        1  \n1  0.264787  0.214164  0.08707        1  \n2  0.196455  0.218923  0.01814        1  \n3  0.097516  0.000000  0.00000        1  \n4  0.096092  0.000000  0.00000        1  \n\n[5 rows x 55 columns]",
      "text/html": "<div>\n<style scoped>\n    .dataframe tbody tr th:only-of-type {\n        vertical-align: middle;\n    }\n\n    .dataframe tbody tr th {\n        vertical-align: top;\n    }\n\n    .dataframe thead th {\n        text-align: right;\n    }\n</style>\n<table border=\"1\" class=\"dataframe\">\n  <thead>\n    <tr style=\"text-align: right;\">\n      <th></th>\n      <th>1</th>\n      <th>2</th>\n      <th>3</th>\n      <th>4</th>\n      <th>5</th>\n      <th>6</th>\n      <th>7</th>\n      <th>8</th>\n      <th>9</th>\n      <th>10</th>\n      <th>...</th>\n      <th>46</th>\n      <th>47</th>\n      <th>48</th>\n      <th>49</th>\n      <th>50</th>\n      <th>51</th>\n      <th>52</th>\n      <th>53</th>\n      <th>54</th>\n      <th>targhet</th>\n    </tr>\n  </thead>\n  <tbody>\n    <tr>\n      <th>0</th>\n      <td>0.000000</td>\n      <td>1.04567</td>\n      <td>0.570084</td>\n      <td>0.0</td>\n      <td>0.309696</td>\n      <td>0.000000</td>\n      <td>0.000000</td>\n      <td>0.000000</td>\n      <td>0.000000</td>\n      <td>0.000000</td>\n      <td>...</td>\n      <td>0.000000</td>\n      <td>0.0</td>\n      <td>0.0</td>\n      <td>0.00000</td>\n      <td>0.000000</td>\n      <td>0.0</td>\n      <td>0.553776</td>\n      <td>0.000000</td>\n      <td>0.00000</td>\n      <td>1</td>\n    </tr>\n    <tr>\n      <th>1</th>\n      <td>0.309672</td>\n      <td>0.45748</td>\n      <td>0.445378</td>\n      <td>0.0</td>\n      <td>0.135492</td>\n      <td>0.427637</td>\n      <td>0.365548</td>\n      <td>0.120390</td>\n      <td>0.000000</td>\n      <td>1.186630</td>\n      <td>...</td>\n      <td>0.000000</td>\n      <td>0.0</td>\n      <td>0.0</td>\n      <td>0.00000</td>\n      <td>0.069628</td>\n      <td>0.0</td>\n      <td>0.264787</td>\n      <td>0.214164</td>\n      <td>0.08707</td>\n      <td>1</td>\n    </tr>\n    <tr>\n      <th>2</th>\n      <td>0.088478</td>\n      <td>0.00000</td>\n      <td>0.632436</td>\n      <td>0.0</td>\n      <td>1.190396</td>\n      <td>0.290182</td>\n      <td>0.330734</td>\n      <td>0.206383</td>\n      <td>1.141600</td>\n      <td>0.315593</td>\n      <td>...</td>\n      <td>0.131159</td>\n      <td>0.0</td>\n      <td>0.0</td>\n      <td>0.01762</td>\n      <td>0.075430</td>\n      <td>0.0</td>\n      <td>0.196455</td>\n      <td>0.218923</td>\n      <td>0.01814</td>\n      <td>1</td>\n    </tr>\n    <tr>\n      <th>3</th>\n      <td>0.000000</td>\n      <td>0.00000</td>\n      <td>0.000000</td>\n      <td>0.0</td>\n      <td>0.609715</td>\n      <td>0.000000</td>\n      <td>0.539619</td>\n      <td>1.083511</td>\n      <td>0.552962</td>\n      <td>0.795294</td>\n      <td>...</td>\n      <td>0.000000</td>\n      <td>0.0</td>\n      <td>0.0</td>\n      <td>0.00000</td>\n      <td>0.072265</td>\n      <td>0.0</td>\n      <td>0.097516</td>\n      <td>0.000000</td>\n      <td>0.00000</td>\n      <td>1</td>\n    </tr>\n    <tr>\n      <th>4</th>\n      <td>0.000000</td>\n      <td>0.00000</td>\n      <td>0.000000</td>\n      <td>0.0</td>\n      <td>0.609715</td>\n      <td>0.000000</td>\n      <td>0.539619</td>\n      <td>1.083511</td>\n      <td>0.552962</td>\n      <td>0.795294</td>\n      <td>...</td>\n      <td>0.000000</td>\n      <td>0.0</td>\n      <td>0.0</td>\n      <td>0.00000</td>\n      <td>0.071210</td>\n      <td>0.0</td>\n      <td>0.096092</td>\n      <td>0.000000</td>\n      <td>0.00000</td>\n      <td>1</td>\n    </tr>\n  </tbody>\n</table>\n<p>5 rows × 55 columns</p>\n</div>"
     },
     "execution_count": 4,
     "metadata": {},
     "output_type": "execute_result"
    }
   ],
   "source": [
    "spam_dataset = pd.read_csv('spam_tfidf.csv', index_col=[0])\n",
    "spam_dataset.head()"
   ],
   "metadata": {
    "collapsed": false
   }
  },
  {
   "cell_type": "code",
   "execution_count": 5,
   "outputs": [],
   "source": [
    "from sklearn.model_selection import train_test_split\n",
    "X = spam_dataset.drop('targhet', axis=1)\n",
    "y = spam_dataset['targhet']  # colonna che segna se è o meno spam\n",
    "\n",
    "# 'test_size' è il parametro che ci indica come dividere i dati, nel caso 0.20 significa che il 20% dei dati\n",
    "# è usato per fare test, mentre l'80% è usato per fare training.\n",
    "X_train, X_test, y_train, y_test = train_test_split(X, y, test_size=0.20)"
   ],
   "metadata": {
    "collapsed": false
   }
  },
  {
   "cell_type": "code",
   "execution_count": 6,
   "outputs": [
    {
     "name": "stdout",
     "output_type": "stream",
     "text": [
      "Training time: 2.842504\n"
     ]
    },
    {
     "data": {
      "text/plain": "0.9413680781758957"
     },
     "execution_count": 6,
     "metadata": {},
     "output_type": "execute_result"
    }
   ],
   "source": [
    "# ora posso fare il training sui dati, useremo un random forest classifier\n",
    "from sklearn.ensemble import RandomForestClassifier\n",
    "from sklearn.metrics import accuracy_score\n",
    "RFC = RandomForestClassifier(n_estimators=250)\n",
    "start_time=time.time()\n",
    "RFC.fit(X_train, y_train)\n",
    "print('Training time: %f'%(time.time() - start_time))\n",
    "RFC.score(X_test, y_test)"
   ],
   "metadata": {
    "collapsed": false
   }
  },
  {
   "cell_type": "code",
   "execution_count": 7,
   "outputs": [
    {
     "name": "stdout",
     "output_type": "stream",
     "text": [
      "Prediction time: 0.184863\n",
      "Missclassified examples: 54\n",
      "Accuracy: 0.941\n"
     ]
    }
   ],
   "source": [
    "start_time=time.time()\n",
    "y_predict = RFC.predict(X_test)\n",
    "print('Prediction time: %f'%(time.time() - start_time))\n",
    "print('Missclassified examples: %d'% (y_test != y_predict).sum())\n",
    "print('Accuracy: %.3f' % accuracy_score(y_test, y_predict))"
   ],
   "metadata": {
    "collapsed": false
   }
  },
  {
   "cell_type": "code",
   "execution_count": 8,
   "outputs": [
    {
     "data": {
      "text/plain": "array([[521,  23],\n       [ 31, 346]])"
     },
     "execution_count": 8,
     "metadata": {},
     "output_type": "execute_result"
    }
   ],
   "source": [
    "from sklearn.metrics import confusion_matrix\n",
    "cm = confusion_matrix(y_test, y_predict)\n",
    "cm"
   ],
   "metadata": {
    "collapsed": false
   }
  },
  {
   "cell_type": "markdown",
   "source": [
    "la cunfusion matrix serve per vedere in maniera veloce e chiara quante predizioni sono state fatte correttamente e se non è così, cosa è stato predetto al posto del valore vero. Nel nostro caso, in cui guardiamo solo se è spam o meno è poco utile, ma può tornare utile nel caso in cui i dati debbano essere divisi in più classi.\n",
    "\n",
    "_seaborn_ è una libreria che serve per la visualizzazione dei dati, si basa su matplotlib, e offre una serie di interfacce pre-preparate.\n",
    "Nel caso seguente ci fa vedere la confusion matrix con dei colori in modo da rencerci subito conto di quante volte sbaglia o meno il RandomForestClissifier usato in precedenza,"
   ],
   "metadata": {
    "collapsed": false
   }
  },
  {
   "cell_type": "code",
   "execution_count": 9,
   "outputs": [
    {
     "data": {
      "text/plain": "Text(33.22222222222222, 0.5, 'Truth')"
     },
     "execution_count": 9,
     "metadata": {},
     "output_type": "execute_result"
    },
    {
     "data": {
      "text/plain": "<Figure size 500x400 with 2 Axes>",
      "image/png": "[encoded data removed]"
     },
     "metadata": {},
     "output_type": "display_data"
    }
   ],
   "source": [
    "%matplotlib inline\n",
    "import seaborn as sn\n",
    "plt.figure(figsize=(5,4))\n",
    "sn.heatmap(cm, annot=True)\n",
    "plt.xlabel('Predicted')\n",
    "plt.ylabel('Truth')"
   ],
   "metadata": {
    "collapsed": false
   }
  },
  {
   "cell_type": "code",
   "execution_count": null,
   "outputs": [],
   "source": [],
   "metadata": {
    "collapsed": false
   }
  }
 ],
 "metadata": {
  "kernelspec": {
   "display_name": "Python 3",
   "language": "python",
   "name": "python3"
  },
  "language_info": {
   "codemirror_mode": {
    "name": "ipython",
    "version": 2
   },
   "file_extension": ".py",
   "mimetype": "text/x-python",
   "name": "python",
   "nbconvert_exporter": "python",
   "pygments_lexer": "ipython2",
   "version": "2.7.6"
  }
 },
 "nbformat": 4,
 "nbformat_minor": 0
}
