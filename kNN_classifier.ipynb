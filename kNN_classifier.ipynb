{
 "cells": [
  {
   "cell_type": "code",
   "execution_count": 2,
   "metadata": {
    "collapsed": true
   },
   "outputs": [],
   "source": [
    "import pandas as pd\n",
    "from sklearn.neighbors import KNeighborsClassifier\n",
    "from sklearn.model_selection import train_test_split\n",
    "from sklearn.metrics import accuracy_score, confusion_matrix\n",
    "import time"
   ]
  },
  {
   "cell_type": "code",
   "execution_count": 53,
   "outputs": [
    {
     "data": {
      "text/plain": "          1         2         3    4         5         6         7         8  \\\n0  0.000000  1.846209  1.472720  0.0  0.719321  0.000000  0.000000  0.000000   \n1  0.605787  0.688445  1.258362  0.0  0.324860  0.758411  0.622415  0.186400   \n2  0.141709  0.000000  1.573143  0.0  3.764774  0.430333  0.457440  0.302007   \n3  0.000000  0.000000  0.000000  0.0  1.627713  0.000000  0.800938  1.867246   \n4  0.000000  0.000000  0.000000  0.0  1.651520  0.000000  0.812652  1.928299   \n\n          9        10  ...        46   47   48        49        50   51  \\\n0  0.000000  0.000000  ...  0.000000  0.0  0.0  0.000000  0.000000  0.0   \n1  0.000000  2.786049  ...  0.000000  0.0  0.0  0.000000  0.351496  0.0   \n2  2.038868  0.721175  ...  0.191144  0.0  0.0  0.023618  0.337741  0.0   \n3  0.812652  1.706424  ...  0.000000  0.0  0.0  0.000000  0.364811  0.0   \n4  0.825484  1.738650  ...  0.000000  0.0  0.0  0.000000  0.380397  0.0   \n\n         52        53     54  58  \n0  2.849699  0.000000  0.000   1  \n1  1.138615  0.533499  0.048   1  \n2  0.879262  0.530785  0.010   1  \n3  0.501811  0.000000  0.000   1  \n4  0.389435  0.000000  0.000   1  \n\n[5 rows x 55 columns]",
      "text/html": "<div>\n<style scoped>\n    .dataframe tbody tr th:only-of-type {\n        vertical-align: middle;\n    }\n\n    .dataframe tbody tr th {\n        vertical-align: top;\n    }\n\n    .dataframe thead th {\n        text-align: right;\n    }\n</style>\n<table border=\"1\" class=\"dataframe\">\n  <thead>\n    <tr style=\"text-align: right;\">\n      <th></th>\n      <th>1</th>\n      <th>2</th>\n      <th>3</th>\n      <th>4</th>\n      <th>5</th>\n      <th>6</th>\n      <th>7</th>\n      <th>8</th>\n      <th>9</th>\n      <th>10</th>\n      <th>...</th>\n      <th>46</th>\n      <th>47</th>\n      <th>48</th>\n      <th>49</th>\n      <th>50</th>\n      <th>51</th>\n      <th>52</th>\n      <th>53</th>\n      <th>54</th>\n      <th>58</th>\n    </tr>\n  </thead>\n  <tbody>\n    <tr>\n      <th>0</th>\n      <td>0.000000</td>\n      <td>1.846209</td>\n      <td>1.472720</td>\n      <td>0.0</td>\n      <td>0.719321</td>\n      <td>0.000000</td>\n      <td>0.000000</td>\n      <td>0.000000</td>\n      <td>0.000000</td>\n      <td>0.000000</td>\n      <td>...</td>\n      <td>0.000000</td>\n      <td>0.0</td>\n      <td>0.0</td>\n      <td>0.000000</td>\n      <td>0.000000</td>\n      <td>0.0</td>\n      <td>2.849699</td>\n      <td>0.000000</td>\n      <td>0.000</td>\n      <td>1</td>\n    </tr>\n    <tr>\n      <th>1</th>\n      <td>0.605787</td>\n      <td>0.688445</td>\n      <td>1.258362</td>\n      <td>0.0</td>\n      <td>0.324860</td>\n      <td>0.758411</td>\n      <td>0.622415</td>\n      <td>0.186400</td>\n      <td>0.000000</td>\n      <td>2.786049</td>\n      <td>...</td>\n      <td>0.000000</td>\n      <td>0.0</td>\n      <td>0.0</td>\n      <td>0.000000</td>\n      <td>0.351496</td>\n      <td>0.0</td>\n      <td>1.138615</td>\n      <td>0.533499</td>\n      <td>0.048</td>\n      <td>1</td>\n    </tr>\n    <tr>\n      <th>2</th>\n      <td>0.141709</td>\n      <td>0.000000</td>\n      <td>1.573143</td>\n      <td>0.0</td>\n      <td>3.764774</td>\n      <td>0.430333</td>\n      <td>0.457440</td>\n      <td>0.302007</td>\n      <td>2.038868</td>\n      <td>0.721175</td>\n      <td>...</td>\n      <td>0.191144</td>\n      <td>0.0</td>\n      <td>0.0</td>\n      <td>0.023618</td>\n      <td>0.337741</td>\n      <td>0.0</td>\n      <td>0.879262</td>\n      <td>0.530785</td>\n      <td>0.010</td>\n      <td>1</td>\n    </tr>\n    <tr>\n      <th>3</th>\n      <td>0.000000</td>\n      <td>0.000000</td>\n      <td>0.000000</td>\n      <td>0.0</td>\n      <td>1.627713</td>\n      <td>0.000000</td>\n      <td>0.800938</td>\n      <td>1.867246</td>\n      <td>0.812652</td>\n      <td>1.706424</td>\n      <td>...</td>\n      <td>0.000000</td>\n      <td>0.0</td>\n      <td>0.0</td>\n      <td>0.000000</td>\n      <td>0.364811</td>\n      <td>0.0</td>\n      <td>0.501811</td>\n      <td>0.000000</td>\n      <td>0.000</td>\n      <td>1</td>\n    </tr>\n    <tr>\n      <th>4</th>\n      <td>0.000000</td>\n      <td>0.000000</td>\n      <td>0.000000</td>\n      <td>0.0</td>\n      <td>1.651520</td>\n      <td>0.000000</td>\n      <td>0.812652</td>\n      <td>1.928299</td>\n      <td>0.825484</td>\n      <td>1.738650</td>\n      <td>...</td>\n      <td>0.000000</td>\n      <td>0.0</td>\n      <td>0.0</td>\n      <td>0.000000</td>\n      <td>0.380397</td>\n      <td>0.0</td>\n      <td>0.389435</td>\n      <td>0.000000</td>\n      <td>0.000</td>\n      <td>1</td>\n    </tr>\n  </tbody>\n</table>\n<p>5 rows × 55 columns</p>\n</div>"
     },
     "execution_count": 53,
     "metadata": {},
     "output_type": "execute_result"
    }
   ],
   "source": [
    "#index = range(0, 57)    # cosi la prima riga è l'indice delle colonne\n",
    "spam_data = pd.read_csv('spam_tfidf.csv', index_col=[0])\n",
    "\n",
    "spam_data.head()"
   ],
   "metadata": {
    "collapsed": false
   }
  },
  {
   "cell_type": "code",
   "execution_count": 62,
   "outputs": [],
   "source": [
    "X = spam_data.drop('58', axis=1)\n",
    "y = spam_data['58']  # colonna che segna se è spam o meno\n",
    "X_train, X_test, y_train, y_test = train_test_split(X, y, test_size=0.20)"
   ],
   "metadata": {
    "collapsed": false
   }
  },
  {
   "cell_type": "code",
   "execution_count": 63,
   "outputs": [
    {
     "name": "stdout",
     "output_type": "stream",
     "text": [
      "Training time: 0.011652\n"
     ]
    },
    {
     "data": {
      "text/plain": "0.8968512486427795"
     },
     "execution_count": 63,
     "metadata": {},
     "output_type": "execute_result"
    }
   ],
   "source": [
    "KNN = KNeighborsClassifier(n_neighbors=5)\n",
    "start_time=time.time()\n",
    "KNN.fit(X_train, y_train)\n",
    "print('Training time: %f'%(time.time() - start_time))\n",
    "KNN.score(X_test, y_test)"
   ],
   "metadata": {
    "collapsed": false
   }
  },
  {
   "cell_type": "code",
   "execution_count": 64,
   "outputs": [
    {
     "name": "stdout",
     "output_type": "stream",
     "text": [
      "Prediction time: 0.093486\n",
      "Missclassified examples: 95\n",
      "Accuracy: 0.897\n"
     ]
    }
   ],
   "source": [
    "start_time=time.time()\n",
    "y_predict = KNN.predict(X_test)\n",
    "print('Prediction time: %f'%(time.time() - start_time))\n",
    "print('Missclassified examples: %d'% (y_test != y_predict).sum())\n",
    "print('Accuracy: %.3f' % accuracy_score(y_test, y_predict))"
   ],
   "metadata": {
    "collapsed": false
   }
  },
  {
   "cell_type": "code",
   "execution_count": 65,
   "outputs": [
    {
     "data": {
      "text/plain": "Text(33.22222222222222, 0.5, 'Truth')"
     },
     "execution_count": 65,
     "metadata": {},
     "output_type": "execute_result"
    },
    {
     "data": {
      "text/plain": "<Figure size 500x400 with 2 Axes>",
      "image/png": "[encoded data removed]"
     },
     "metadata": {},
     "output_type": "display_data"
    }
   ],
   "source": [
    "cm = confusion_matrix(y_test, y_predict)\n",
    "import seaborn as sn\n",
    "import matplotlib.pyplot as plt\n",
    "plt.figure(figsize=(5,4))\n",
    "sn.heatmap(cm, annot=True)\n",
    "plt.xlabel('Predicted')\n",
    "plt.ylabel('Truth')"
   ],
   "metadata": {
    "collapsed": false
   }
  },
  {
   "cell_type": "code",
   "execution_count": null,
   "outputs": [],
   "source": [],
   "metadata": {
    "collapsed": false
   }
  }
 ],
 "metadata": {
  "kernelspec": {
   "display_name": "Python 3",
   "language": "python",
   "name": "python3"
  },
  "language_info": {
   "codemirror_mode": {
    "name": "ipython",
    "version": 2
   },
   "file_extension": ".py",
   "mimetype": "text/x-python",
   "name": "python",
   "nbconvert_exporter": "python",
   "pygments_lexer": "ipython2",
   "version": "2.7.6"
  }
 },
 "nbformat": 4,
 "nbformat_minor": 0
}
