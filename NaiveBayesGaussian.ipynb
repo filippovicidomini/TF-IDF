{
 "cells": [
  {
   "cell_type": "code",
   "execution_count": null,
   "outputs": [],
   "source": [
    "import time\n",
    "\n",
    "import pandas as pd\n",
    "from sklearn.metrics import accuracy_score"
   ],
   "metadata": {
    "collapsed": false
   }
  },
  {
   "cell_type": "code",
   "execution_count": null,
   "outputs": [],
   "source": [
    "dataset = pd.read_csv('spam_tfidf.csv', index_col=[0])\n",
    "dataset.head()"
   ],
   "metadata": {
    "collapsed": false
   }
  },
  {
   "cell_type": "code",
   "execution_count": null,
   "outputs": [],
   "source": [
    "from sklearn.model_selection import train_test_split\n",
    "\n",
    "X = dataset.drop('targhet', axis=1)\n",
    "y = dataset['targhet']  # colonna che segna se è spam o meno\n",
    "X_train, X_test, y_train, y_test = train_test_split(X, y, test_size=0.20)"
   ],
   "metadata": {
    "collapsed": false
   }
  },
  {
   "cell_type": "markdown",
   "source": [
    "sklearn _BaseEstimator_ and _ClassifierMixin_ classes sono usati per creare un classificatore custom\n",
    "che può essere utilizzato con la libreria sklearn"
   ],
   "metadata": {
    "collapsed": false
   }
  },
  {
   "cell_type": "code",
   "execution_count": 77,
   "outputs": [],
   "source": [
    "import numpy as np\n",
    "from sklearn.base import BaseEstimator, ClassifierMixin\n",
    "from sklearn.utils.validation import check_X_y, check_array, check_is_fitted\n",
    "\n",
    "\n",
    "class GaussianNaiveBayes(BaseEstimator, ClassifierMixin):\n",
    "    def fit(self, X, y):\n",
    "        X, y = check_X_y(X, y)\n",
    "        self.priors_ = np.bincount(y) / len(y)\n",
    "        self.n_classes_ = np.max(y) + 1\n",
    "\n",
    "        self.means_ = np.array([X[np.where(y == i)].mean(axis=0) for i in range(self.n_classes_)])\n",
    "        self.stds_ = np.array([X[np.where(y == i)].std(axis=0) for i in range(self.n_classes_)])\n",
    "\n",
    "        return self\n",
    "\n",
    "    def predict_proba(self, X):\n",
    "        check_is_fitted(self)\n",
    "        X = check_array(X)\n",
    "\n",
    "        res = []\n",
    "        for i in range(len(X)):\n",
    "            probas = []\n",
    "            for j in range(self.n_classes_):\n",
    "                probas.append((1 / np.sqrt(2 * np.pi * self.stds_[j] ** 2) * np.exp(\n",
    "                    -0.5 * ((X[i] - self.means_[j]) / self.stds_[j]) ** 2)).prod() * self.priors_[j])\n",
    "            probas = np.array(probas)\n",
    "            res.append(probas / probas.sum())\n",
    "\n",
    "        return np.array(res)\n",
    "\n",
    "    def predict(self, X):\n",
    "        check_is_fitted(self)\n",
    "        X = check_array(X)\n",
    "\n",
    "        res = self.predict_proba(X)\n",
    "\n",
    "        return res.argmax(axis=1)\n",
    "\n"
   ],
   "metadata": {
    "collapsed": false
   }
  },
  {
   "cell_type": "code",
   "execution_count": 78,
   "outputs": [
    {
     "name": "stdout",
     "output_type": "stream",
     "text": [
      "Training time: 0.016015\n",
      "Prediction time: 0.079684\n",
      "Missclassified examples: 169\n",
      "Accuracy: 0.817\n"
     ]
    },
    {
     "name": "stderr",
     "output_type": "stream",
     "text": [
      "/var/folders/01/gt1wx08s0xsdfpkbncl6qhsr0000gn/T/ipykernel_4533/1042998281.py:28: RuntimeWarning: invalid value encountered in divide\n",
      "  res.append(probas / probas.sum())\n"
     ]
    }
   ],
   "source": [
    "# from sklearn.naive_bayes import GaussianNB\n",
    "nbg = GaussianNaiveBayes()\n",
    "start_time = time.time()\n",
    "nbg.fit(X_train, y_train)\n",
    "print('Training time: %f' % (time.time() - start_time))\n",
    "start_time = time.time()\n",
    "y_pred_nbg = nbg.predict(X_test)\n",
    "print('Prediction time: %f' % (time.time() - start_time))\n",
    "print('Missclassified examples: %d' % (y_test != y_pred_nbg).sum())\n",
    "print('Accuracy: %.3f' % accuracy_score(y_test, y_pred_nbg))"
   ],
   "metadata": {
    "collapsed": false
   }
  },
  {
   "cell_type": "code",
   "execution_count": null,
   "outputs": [],
   "source": [],
   "metadata": {
    "collapsed": false
   }
  },
  {
   "cell_type": "code",
   "execution_count": null,
   "outputs": [],
   "source": [],
   "metadata": {
    "collapsed": false
   }
  }
 ],
 "metadata": {
  "kernelspec": {
   "display_name": "Python 3",
   "language": "python",
   "name": "python3"
  },
  "language_info": {
   "codemirror_mode": {
    "name": "ipython",
    "version": 2
   },
   "file_extension": ".py",
   "mimetype": "text/x-python",
   "name": "python",
   "nbconvert_exporter": "python",
   "pygments_lexer": "ipython2",
   "version": "2.7.6"
  }
 },
 "nbformat": 4,
 "nbformat_minor": 0
}
