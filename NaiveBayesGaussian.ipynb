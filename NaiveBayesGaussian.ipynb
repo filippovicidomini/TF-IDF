{
 "cells": [
  {
   "cell_type": "code",
   "execution_count": 6,
   "outputs": [],
   "source": [
    "import time\n",
    "\n",
    "import matplotlib.pyplot as plt\n",
    "import pandas as pd\n",
    "import seaborn as sn\n",
    "from sklearn.metrics import accuracy_score, confusion_matrix"
   ],
   "metadata": {
    "collapsed": false
   }
  },
  {
   "cell_type": "code",
   "execution_count": 2,
   "outputs": [
    {
     "data": {
      "text/plain": "          1        2         3    4         5         6         7         8  \\\n0  0.000000  1.04567  0.570084  0.0  0.309696  0.000000  0.000000  0.000000   \n1  0.309672  0.45748  0.445378  0.0  0.135492  0.427637  0.365548  0.120390   \n2  0.088478  0.00000  0.632436  0.0  1.190396  0.290182  0.330734  0.206383   \n3  0.000000  0.00000  0.000000  0.0  0.609715  0.000000  0.539619  1.083511   \n4  0.000000  0.00000  0.000000  0.0  0.609715  0.000000  0.539619  1.083511   \n\n          9        10  ...        46   47   48       49        50   51  \\\n0  0.000000  0.000000  ...  0.000000  0.0  0.0  0.00000  0.000000  0.0   \n1  0.000000  1.186630  ...  0.000000  0.0  0.0  0.00000  0.069628  0.0   \n2  1.141600  0.315593  ...  0.131159  0.0  0.0  0.01762  0.075430  0.0   \n3  0.552962  0.795294  ...  0.000000  0.0  0.0  0.00000  0.072265  0.0   \n4  0.552962  0.795294  ...  0.000000  0.0  0.0  0.00000  0.071210  0.0   \n\n         52        53       54  targhet  \n0  0.553776  0.000000  0.00000        1  \n1  0.264787  0.214164  0.08707        1  \n2  0.196455  0.218923  0.01814        1  \n3  0.097516  0.000000  0.00000        1  \n4  0.096092  0.000000  0.00000        1  \n\n[5 rows x 55 columns]",
      "text/html": "<div>\n<style scoped>\n    .dataframe tbody tr th:only-of-type {\n        vertical-align: middle;\n    }\n\n    .dataframe tbody tr th {\n        vertical-align: top;\n    }\n\n    .dataframe thead th {\n        text-align: right;\n    }\n</style>\n<table border=\"1\" class=\"dataframe\">\n  <thead>\n    <tr style=\"text-align: right;\">\n      <th></th>\n      <th>1</th>\n      <th>2</th>\n      <th>3</th>\n      <th>4</th>\n      <th>5</th>\n      <th>6</th>\n      <th>7</th>\n      <th>8</th>\n      <th>9</th>\n      <th>10</th>\n      <th>...</th>\n      <th>46</th>\n      <th>47</th>\n      <th>48</th>\n      <th>49</th>\n      <th>50</th>\n      <th>51</th>\n      <th>52</th>\n      <th>53</th>\n      <th>54</th>\n      <th>targhet</th>\n    </tr>\n  </thead>\n  <tbody>\n    <tr>\n      <th>0</th>\n      <td>0.000000</td>\n      <td>1.04567</td>\n      <td>0.570084</td>\n      <td>0.0</td>\n      <td>0.309696</td>\n      <td>0.000000</td>\n      <td>0.000000</td>\n      <td>0.000000</td>\n      <td>0.000000</td>\n      <td>0.000000</td>\n      <td>...</td>\n      <td>0.000000</td>\n      <td>0.0</td>\n      <td>0.0</td>\n      <td>0.00000</td>\n      <td>0.000000</td>\n      <td>0.0</td>\n      <td>0.553776</td>\n      <td>0.000000</td>\n      <td>0.00000</td>\n      <td>1</td>\n    </tr>\n    <tr>\n      <th>1</th>\n      <td>0.309672</td>\n      <td>0.45748</td>\n      <td>0.445378</td>\n      <td>0.0</td>\n      <td>0.135492</td>\n      <td>0.427637</td>\n      <td>0.365548</td>\n      <td>0.120390</td>\n      <td>0.000000</td>\n      <td>1.186630</td>\n      <td>...</td>\n      <td>0.000000</td>\n      <td>0.0</td>\n      <td>0.0</td>\n      <td>0.00000</td>\n      <td>0.069628</td>\n      <td>0.0</td>\n      <td>0.264787</td>\n      <td>0.214164</td>\n      <td>0.08707</td>\n      <td>1</td>\n    </tr>\n    <tr>\n      <th>2</th>\n      <td>0.088478</td>\n      <td>0.00000</td>\n      <td>0.632436</td>\n      <td>0.0</td>\n      <td>1.190396</td>\n      <td>0.290182</td>\n      <td>0.330734</td>\n      <td>0.206383</td>\n      <td>1.141600</td>\n      <td>0.315593</td>\n      <td>...</td>\n      <td>0.131159</td>\n      <td>0.0</td>\n      <td>0.0</td>\n      <td>0.01762</td>\n      <td>0.075430</td>\n      <td>0.0</td>\n      <td>0.196455</td>\n      <td>0.218923</td>\n      <td>0.01814</td>\n      <td>1</td>\n    </tr>\n    <tr>\n      <th>3</th>\n      <td>0.000000</td>\n      <td>0.00000</td>\n      <td>0.000000</td>\n      <td>0.0</td>\n      <td>0.609715</td>\n      <td>0.000000</td>\n      <td>0.539619</td>\n      <td>1.083511</td>\n      <td>0.552962</td>\n      <td>0.795294</td>\n      <td>...</td>\n      <td>0.000000</td>\n      <td>0.0</td>\n      <td>0.0</td>\n      <td>0.00000</td>\n      <td>0.072265</td>\n      <td>0.0</td>\n      <td>0.097516</td>\n      <td>0.000000</td>\n      <td>0.00000</td>\n      <td>1</td>\n    </tr>\n    <tr>\n      <th>4</th>\n      <td>0.000000</td>\n      <td>0.00000</td>\n      <td>0.000000</td>\n      <td>0.0</td>\n      <td>0.609715</td>\n      <td>0.000000</td>\n      <td>0.539619</td>\n      <td>1.083511</td>\n      <td>0.552962</td>\n      <td>0.795294</td>\n      <td>...</td>\n      <td>0.000000</td>\n      <td>0.0</td>\n      <td>0.0</td>\n      <td>0.00000</td>\n      <td>0.071210</td>\n      <td>0.0</td>\n      <td>0.096092</td>\n      <td>0.000000</td>\n      <td>0.00000</td>\n      <td>1</td>\n    </tr>\n  </tbody>\n</table>\n<p>5 rows × 55 columns</p>\n</div>"
     },
     "execution_count": 2,
     "metadata": {},
     "output_type": "execute_result"
    }
   ],
   "source": [
    "dataset = pd.read_csv('spam_tfidf.csv', index_col=[0])\n",
    "dataset.head()"
   ],
   "metadata": {
    "collapsed": false
   }
  },
  {
   "cell_type": "code",
   "execution_count": 3,
   "outputs": [],
   "source": [
    "from sklearn.model_selection import train_test_split\n",
    "\n",
    "X = dataset.drop('targhet', axis=1)\n",
    "y = dataset['targhet']  # colonna che segna se è spam o meno\n",
    "X_train, X_test, y_train, y_test = train_test_split(X, y, test_size=0.20)"
   ],
   "metadata": {
    "collapsed": false
   }
  },
  {
   "cell_type": "markdown",
   "source": [
    "sklearn _BaseEstimator_ and _ClassifierMixin_ classes sono usati per creare un classificatore custom\n",
    "che può essere utilizzato con la libreria sklearn"
   ],
   "metadata": {
    "collapsed": false
   }
  },
  {
   "cell_type": "code",
   "execution_count": 4,
   "outputs": [],
   "source": [
    "import numpy as np\n",
    "from sklearn.base import BaseEstimator, ClassifierMixin\n",
    "from sklearn.utils.validation import check_X_y, check_array, check_is_fitted\n",
    "\n",
    "\n",
    "class GaussianNaiveBayes(BaseEstimator, ClassifierMixin):\n",
    "    def fit(self, X, y):\n",
    "        X, y = check_X_y(X, y)\n",
    "        self.priors_ = np.bincount(y) / len(y)\n",
    "        self.n_classes_ = np.max(y) + 1\n",
    "\n",
    "        self.means_ = np.array([X[np.where(y == i)].mean(axis=0) for i in range(self.n_classes_)])\n",
    "        self.stds_ = np.array([X[np.where(y == i)].std(axis=0) for i in range(self.n_classes_)])\n",
    "\n",
    "        return self\n",
    "\n",
    "    def predict_proba(self, X):\n",
    "        check_is_fitted(self)\n",
    "        X = check_array(X)\n",
    "\n",
    "        res = []\n",
    "        for i in range(len(X)):\n",
    "            probas = []\n",
    "            for j in range(self.n_classes_):\n",
    "                probas.append((1 / np.sqrt(2 * np.pi * self.stds_[j] ** 2) * np.exp(\n",
    "                    -0.5 * ((X[i] - self.means_[j]) / self.stds_[j]) ** 2)).prod() * self.priors_[j])\n",
    "            probas = np.array(probas)\n",
    "            res.append(probas / probas.sum())\n",
    "\n",
    "        return np.array(res)\n",
    "\n",
    "    def predict(self, X):\n",
    "        check_is_fitted(self)\n",
    "        X = check_array(X)\n",
    "\n",
    "        res = self.predict_proba(X)\n",
    "\n",
    "        return res.argmax(axis=1)\n",
    "\n"
   ],
   "metadata": {
    "collapsed": false
   }
  },
  {
   "cell_type": "code",
   "execution_count": 10,
   "outputs": [
    {
     "name": "stdout",
     "output_type": "stream",
     "text": [
      "Training time: 0.010371\n",
      "Prediction time: 0.150500\n",
      "Missclassified examples: 342\n",
      "Accuracy: 0.629\n"
     ]
    },
    {
     "name": "stderr",
     "output_type": "stream",
     "text": [
      "/var/folders/01/gt1wx08s0xsdfpkbncl6qhsr0000gn/T/ipykernel_18533/1042998281.py:25: RuntimeWarning: divide by zero encountered in divide\n",
      "  probas.append((1 / np.sqrt(2 * np.pi * self.stds_[j] ** 2) * np.exp(\n",
      "/var/folders/01/gt1wx08s0xsdfpkbncl6qhsr0000gn/T/ipykernel_18533/1042998281.py:26: RuntimeWarning: invalid value encountered in divide\n",
      "  -0.5 * ((X[i] - self.means_[j]) / self.stds_[j]) ** 2)).prod() * self.priors_[j])\n",
      "/var/folders/01/gt1wx08s0xsdfpkbncl6qhsr0000gn/T/ipykernel_18533/1042998281.py:26: RuntimeWarning: divide by zero encountered in divide\n",
      "  -0.5 * ((X[i] - self.means_[j]) / self.stds_[j]) ** 2)).prod() * self.priors_[j])\n",
      "/var/folders/01/gt1wx08s0xsdfpkbncl6qhsr0000gn/T/ipykernel_18533/1042998281.py:25: RuntimeWarning: invalid value encountered in multiply\n",
      "  probas.append((1 / np.sqrt(2 * np.pi * self.stds_[j] ** 2) * np.exp(\n"
     ]
    },
    {
     "name": "stdout",
     "output_type": "stream",
     "text": [
      "Training time: 0.004931\n",
      "Prediction time: 0.057507\n",
      "Missclassified examples: 342\n",
      "Accuracy: 0.629\n"
     ]
    },
    {
     "name": "stderr",
     "output_type": "stream",
     "text": [
      "/var/folders/01/gt1wx08s0xsdfpkbncl6qhsr0000gn/T/ipykernel_18533/1042998281.py:25: RuntimeWarning: divide by zero encountered in divide\n",
      "  probas.append((1 / np.sqrt(2 * np.pi * self.stds_[j] ** 2) * np.exp(\n",
      "/var/folders/01/gt1wx08s0xsdfpkbncl6qhsr0000gn/T/ipykernel_18533/1042998281.py:26: RuntimeWarning: invalid value encountered in divide\n",
      "  -0.5 * ((X[i] - self.means_[j]) / self.stds_[j]) ** 2)).prod() * self.priors_[j])\n",
      "/var/folders/01/gt1wx08s0xsdfpkbncl6qhsr0000gn/T/ipykernel_18533/1042998281.py:26: RuntimeWarning: divide by zero encountered in divide\n",
      "  -0.5 * ((X[i] - self.means_[j]) / self.stds_[j]) ** 2)).prod() * self.priors_[j])\n",
      "/var/folders/01/gt1wx08s0xsdfpkbncl6qhsr0000gn/T/ipykernel_18533/1042998281.py:25: RuntimeWarning: invalid value encountered in multiply\n",
      "  probas.append((1 / np.sqrt(2 * np.pi * self.stds_[j] ** 2) * np.exp(\n"
     ]
    },
    {
     "name": "stdout",
     "output_type": "stream",
     "text": [
      "Training time: 0.006919\n",
      "Prediction time: 0.057533\n",
      "Missclassified examples: 342\n",
      "Accuracy: 0.629\n"
     ]
    },
    {
     "name": "stderr",
     "output_type": "stream",
     "text": [
      "/var/folders/01/gt1wx08s0xsdfpkbncl6qhsr0000gn/T/ipykernel_18533/1042998281.py:25: RuntimeWarning: divide by zero encountered in divide\n",
      "  probas.append((1 / np.sqrt(2 * np.pi * self.stds_[j] ** 2) * np.exp(\n",
      "/var/folders/01/gt1wx08s0xsdfpkbncl6qhsr0000gn/T/ipykernel_18533/1042998281.py:26: RuntimeWarning: invalid value encountered in divide\n",
      "  -0.5 * ((X[i] - self.means_[j]) / self.stds_[j]) ** 2)).prod() * self.priors_[j])\n",
      "/var/folders/01/gt1wx08s0xsdfpkbncl6qhsr0000gn/T/ipykernel_18533/1042998281.py:26: RuntimeWarning: divide by zero encountered in divide\n",
      "  -0.5 * ((X[i] - self.means_[j]) / self.stds_[j]) ** 2)).prod() * self.priors_[j])\n",
      "/var/folders/01/gt1wx08s0xsdfpkbncl6qhsr0000gn/T/ipykernel_18533/1042998281.py:25: RuntimeWarning: invalid value encountered in multiply\n",
      "  probas.append((1 / np.sqrt(2 * np.pi * self.stds_[j] ** 2) * np.exp(\n"
     ]
    },
    {
     "name": "stdout",
     "output_type": "stream",
     "text": [
      "Training time: 0.004688\n",
      "Prediction time: 0.056107\n",
      "Missclassified examples: 342\n",
      "Accuracy: 0.629\n"
     ]
    },
    {
     "name": "stderr",
     "output_type": "stream",
     "text": [
      "/var/folders/01/gt1wx08s0xsdfpkbncl6qhsr0000gn/T/ipykernel_18533/1042998281.py:25: RuntimeWarning: divide by zero encountered in divide\n",
      "  probas.append((1 / np.sqrt(2 * np.pi * self.stds_[j] ** 2) * np.exp(\n",
      "/var/folders/01/gt1wx08s0xsdfpkbncl6qhsr0000gn/T/ipykernel_18533/1042998281.py:26: RuntimeWarning: invalid value encountered in divide\n",
      "  -0.5 * ((X[i] - self.means_[j]) / self.stds_[j]) ** 2)).prod() * self.priors_[j])\n",
      "/var/folders/01/gt1wx08s0xsdfpkbncl6qhsr0000gn/T/ipykernel_18533/1042998281.py:26: RuntimeWarning: divide by zero encountered in divide\n",
      "  -0.5 * ((X[i] - self.means_[j]) / self.stds_[j]) ** 2)).prod() * self.priors_[j])\n",
      "/var/folders/01/gt1wx08s0xsdfpkbncl6qhsr0000gn/T/ipykernel_18533/1042998281.py:25: RuntimeWarning: invalid value encountered in multiply\n",
      "  probas.append((1 / np.sqrt(2 * np.pi * self.stds_[j] ** 2) * np.exp(\n"
     ]
    },
    {
     "name": "stdout",
     "output_type": "stream",
     "text": [
      "Training time: 0.004699\n",
      "Prediction time: 0.054660\n",
      "Missclassified examples: 342\n",
      "Accuracy: 0.629\n"
     ]
    },
    {
     "name": "stderr",
     "output_type": "stream",
     "text": [
      "/var/folders/01/gt1wx08s0xsdfpkbncl6qhsr0000gn/T/ipykernel_18533/1042998281.py:25: RuntimeWarning: divide by zero encountered in divide\n",
      "  probas.append((1 / np.sqrt(2 * np.pi * self.stds_[j] ** 2) * np.exp(\n",
      "/var/folders/01/gt1wx08s0xsdfpkbncl6qhsr0000gn/T/ipykernel_18533/1042998281.py:26: RuntimeWarning: invalid value encountered in divide\n",
      "  -0.5 * ((X[i] - self.means_[j]) / self.stds_[j]) ** 2)).prod() * self.priors_[j])\n",
      "/var/folders/01/gt1wx08s0xsdfpkbncl6qhsr0000gn/T/ipykernel_18533/1042998281.py:26: RuntimeWarning: divide by zero encountered in divide\n",
      "  -0.5 * ((X[i] - self.means_[j]) / self.stds_[j]) ** 2)).prod() * self.priors_[j])\n",
      "/var/folders/01/gt1wx08s0xsdfpkbncl6qhsr0000gn/T/ipykernel_18533/1042998281.py:25: RuntimeWarning: invalid value encountered in multiply\n",
      "  probas.append((1 / np.sqrt(2 * np.pi * self.stds_[j] ** 2) * np.exp(\n"
     ]
    },
    {
     "name": "stdout",
     "output_type": "stream",
     "text": [
      "Training time: 0.007565\n",
      "Prediction time: 0.056632\n",
      "Missclassified examples: 342\n",
      "Accuracy: 0.629\n"
     ]
    },
    {
     "name": "stderr",
     "output_type": "stream",
     "text": [
      "/var/folders/01/gt1wx08s0xsdfpkbncl6qhsr0000gn/T/ipykernel_18533/1042998281.py:25: RuntimeWarning: divide by zero encountered in divide\n",
      "  probas.append((1 / np.sqrt(2 * np.pi * self.stds_[j] ** 2) * np.exp(\n",
      "/var/folders/01/gt1wx08s0xsdfpkbncl6qhsr0000gn/T/ipykernel_18533/1042998281.py:26: RuntimeWarning: invalid value encountered in divide\n",
      "  -0.5 * ((X[i] - self.means_[j]) / self.stds_[j]) ** 2)).prod() * self.priors_[j])\n",
      "/var/folders/01/gt1wx08s0xsdfpkbncl6qhsr0000gn/T/ipykernel_18533/1042998281.py:26: RuntimeWarning: divide by zero encountered in divide\n",
      "  -0.5 * ((X[i] - self.means_[j]) / self.stds_[j]) ** 2)).prod() * self.priors_[j])\n",
      "/var/folders/01/gt1wx08s0xsdfpkbncl6qhsr0000gn/T/ipykernel_18533/1042998281.py:25: RuntimeWarning: invalid value encountered in multiply\n",
      "  probas.append((1 / np.sqrt(2 * np.pi * self.stds_[j] ** 2) * np.exp(\n"
     ]
    },
    {
     "name": "stdout",
     "output_type": "stream",
     "text": [
      "Training time: 0.006944\n",
      "Prediction time: 0.058542\n",
      "Missclassified examples: 342\n",
      "Accuracy: 0.629\n"
     ]
    },
    {
     "name": "stderr",
     "output_type": "stream",
     "text": [
      "/var/folders/01/gt1wx08s0xsdfpkbncl6qhsr0000gn/T/ipykernel_18533/1042998281.py:25: RuntimeWarning: divide by zero encountered in divide\n",
      "  probas.append((1 / np.sqrt(2 * np.pi * self.stds_[j] ** 2) * np.exp(\n",
      "/var/folders/01/gt1wx08s0xsdfpkbncl6qhsr0000gn/T/ipykernel_18533/1042998281.py:26: RuntimeWarning: invalid value encountered in divide\n",
      "  -0.5 * ((X[i] - self.means_[j]) / self.stds_[j]) ** 2)).prod() * self.priors_[j])\n",
      "/var/folders/01/gt1wx08s0xsdfpkbncl6qhsr0000gn/T/ipykernel_18533/1042998281.py:26: RuntimeWarning: divide by zero encountered in divide\n",
      "  -0.5 * ((X[i] - self.means_[j]) / self.stds_[j]) ** 2)).prod() * self.priors_[j])\n",
      "/var/folders/01/gt1wx08s0xsdfpkbncl6qhsr0000gn/T/ipykernel_18533/1042998281.py:25: RuntimeWarning: invalid value encountered in multiply\n",
      "  probas.append((1 / np.sqrt(2 * np.pi * self.stds_[j] ** 2) * np.exp(\n"
     ]
    },
    {
     "name": "stdout",
     "output_type": "stream",
     "text": [
      "Training time: 0.009632\n",
      "Prediction time: 0.056779\n",
      "Missclassified examples: 342\n",
      "Accuracy: 0.629\n"
     ]
    },
    {
     "name": "stderr",
     "output_type": "stream",
     "text": [
      "/var/folders/01/gt1wx08s0xsdfpkbncl6qhsr0000gn/T/ipykernel_18533/1042998281.py:25: RuntimeWarning: divide by zero encountered in divide\n",
      "  probas.append((1 / np.sqrt(2 * np.pi * self.stds_[j] ** 2) * np.exp(\n",
      "/var/folders/01/gt1wx08s0xsdfpkbncl6qhsr0000gn/T/ipykernel_18533/1042998281.py:26: RuntimeWarning: invalid value encountered in divide\n",
      "  -0.5 * ((X[i] - self.means_[j]) / self.stds_[j]) ** 2)).prod() * self.priors_[j])\n",
      "/var/folders/01/gt1wx08s0xsdfpkbncl6qhsr0000gn/T/ipykernel_18533/1042998281.py:26: RuntimeWarning: divide by zero encountered in divide\n",
      "  -0.5 * ((X[i] - self.means_[j]) / self.stds_[j]) ** 2)).prod() * self.priors_[j])\n",
      "/var/folders/01/gt1wx08s0xsdfpkbncl6qhsr0000gn/T/ipykernel_18533/1042998281.py:25: RuntimeWarning: invalid value encountered in multiply\n",
      "  probas.append((1 / np.sqrt(2 * np.pi * self.stds_[j] ** 2) * np.exp(\n"
     ]
    },
    {
     "name": "stdout",
     "output_type": "stream",
     "text": [
      "Training time: 0.005117\n",
      "Prediction time: 0.060636\n",
      "Missclassified examples: 342\n",
      "Accuracy: 0.629\n"
     ]
    },
    {
     "name": "stderr",
     "output_type": "stream",
     "text": [
      "/var/folders/01/gt1wx08s0xsdfpkbncl6qhsr0000gn/T/ipykernel_18533/1042998281.py:25: RuntimeWarning: divide by zero encountered in divide\n",
      "  probas.append((1 / np.sqrt(2 * np.pi * self.stds_[j] ** 2) * np.exp(\n",
      "/var/folders/01/gt1wx08s0xsdfpkbncl6qhsr0000gn/T/ipykernel_18533/1042998281.py:26: RuntimeWarning: invalid value encountered in divide\n",
      "  -0.5 * ((X[i] - self.means_[j]) / self.stds_[j]) ** 2)).prod() * self.priors_[j])\n",
      "/var/folders/01/gt1wx08s0xsdfpkbncl6qhsr0000gn/T/ipykernel_18533/1042998281.py:26: RuntimeWarning: divide by zero encountered in divide\n",
      "  -0.5 * ((X[i] - self.means_[j]) / self.stds_[j]) ** 2)).prod() * self.priors_[j])\n",
      "/var/folders/01/gt1wx08s0xsdfpkbncl6qhsr0000gn/T/ipykernel_18533/1042998281.py:25: RuntimeWarning: invalid value encountered in multiply\n",
      "  probas.append((1 / np.sqrt(2 * np.pi * self.stds_[j] ** 2) * np.exp(\n"
     ]
    },
    {
     "name": "stdout",
     "output_type": "stream",
     "text": [
      "Training time: 0.004865\n",
      "Prediction time: 0.056184\n",
      "Missclassified examples: 342\n",
      "Accuracy: 0.629\n"
     ]
    },
    {
     "name": "stderr",
     "output_type": "stream",
     "text": [
      "/var/folders/01/gt1wx08s0xsdfpkbncl6qhsr0000gn/T/ipykernel_18533/1042998281.py:25: RuntimeWarning: divide by zero encountered in divide\n",
      "  probas.append((1 / np.sqrt(2 * np.pi * self.stds_[j] ** 2) * np.exp(\n",
      "/var/folders/01/gt1wx08s0xsdfpkbncl6qhsr0000gn/T/ipykernel_18533/1042998281.py:26: RuntimeWarning: invalid value encountered in divide\n",
      "  -0.5 * ((X[i] - self.means_[j]) / self.stds_[j]) ** 2)).prod() * self.priors_[j])\n",
      "/var/folders/01/gt1wx08s0xsdfpkbncl6qhsr0000gn/T/ipykernel_18533/1042998281.py:26: RuntimeWarning: divide by zero encountered in divide\n",
      "  -0.5 * ((X[i] - self.means_[j]) / self.stds_[j]) ** 2)).prod() * self.priors_[j])\n",
      "/var/folders/01/gt1wx08s0xsdfpkbncl6qhsr0000gn/T/ipykernel_18533/1042998281.py:25: RuntimeWarning: invalid value encountered in multiply\n",
      "  probas.append((1 / np.sqrt(2 * np.pi * self.stds_[j] ** 2) * np.exp(\n"
     ]
    },
    {
     "data": {
      "text/plain": "<Figure size 1500x600 with 20 Axes>",
      "image/png": "[encoded data removed]"
     },
     "metadata": {},
     "output_type": "display_data"
    }
   ],
   "source": [
    "# from sklearn.naive_bayes import GaussianNB\n",
    "fig, axs = plt.subplots(2, 5, figsize=(15, 6))\n",
    "for i in range(10):\n",
    "    nbg = GaussianNaiveBayes()\n",
    "    start_time = time.time()\n",
    "    nbg.fit(X_train, y_train)\n",
    "    print('Training time: %f' % (time.time() - start_time))\n",
    "    start_time = time.time()\n",
    "    y_pred_nbg = nbg.predict(X_test)\n",
    "    print('Prediction time: %f' % (time.time() - start_time))\n",
    "    print('Missclassified examples: %d' % (y_test != y_pred_nbg).sum())\n",
    "    print('Accuracy: %.3f' % accuracy_score(y_test, y_pred_nbg))\n",
    "    cm = confusion_matrix(y_test, y_pred_nbg)\n",
    "    sn.heatmap(cm, annot=True, ax=axs[int(i / 5), i % 5], cmap=sn.color_palette(\"blend:#7AB,#EDA\", as_cmap=True))\n",
    "plt.xlabel('Predicted')\n",
    "plt.ylabel('Truth')\n",
    "plt.tight_layout()\n",
    "plt.show()\n"
   ],
   "metadata": {
    "collapsed": false
   }
  },
  {
   "cell_type": "code",
   "execution_count": null,
   "outputs": [],
   "source": [],
   "metadata": {
    "collapsed": false
   }
  },
  {
   "cell_type": "code",
   "execution_count": null,
   "outputs": [],
   "source": [],
   "metadata": {
    "collapsed": false
   }
  }
 ],
 "metadata": {
  "kernelspec": {
   "display_name": "Python 3",
   "language": "python",
   "name": "python3"
  },
  "language_info": {
   "codemirror_mode": {
    "name": "ipython",
    "version": 2
   },
   "file_extension": ".py",
   "mimetype": "text/x-python",
   "name": "python",
   "nbconvert_exporter": "python",
   "pygments_lexer": "ipython2",
   "version": "2.7.6"
  }
 },
 "nbformat": 4,
 "nbformat_minor": 0
}
