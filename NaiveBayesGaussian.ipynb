{
 "cells": [
  {
   "cell_type": "code",
   "execution_count": 7,
   "outputs": [],
   "source": [
    "import time\n",
    "import numpy as np\n",
    "import matplotlib.pyplot as plt\n",
    "import pandas as pd\n",
    "import seaborn as sn\n",
    "from sklearn.metrics import accuracy_score, confusion_matrix\n",
    "from sklearn.model_selection import cross_val_score\n",
    "from sklearn.base import BaseEstimator, ClassifierMixin"
   ],
   "metadata": {
    "collapsed": false
   }
  },
  {
   "cell_type": "code",
   "execution_count": 2,
   "outputs": [
    {
     "data": {
      "text/plain": "          1        2         3    4         5         6         7         8  \\\n0  0.000000  1.04567  0.570084  0.0  0.309696  0.000000  0.000000  0.000000   \n1  0.309672  0.45748  0.445378  0.0  0.135492  0.427637  0.365548  0.120390   \n2  0.088478  0.00000  0.632436  0.0  1.190396  0.290182  0.330734  0.206383   \n3  0.000000  0.00000  0.000000  0.0  0.609715  0.000000  0.539619  1.083511   \n4  0.000000  0.00000  0.000000  0.0  0.609715  0.000000  0.539619  1.083511   \n\n          9        10  ...        46   47   48       49        50   51  \\\n0  0.000000  0.000000  ...  0.000000  0.0  0.0  0.00000  0.000000  0.0   \n1  0.000000  1.186630  ...  0.000000  0.0  0.0  0.00000  0.069628  0.0   \n2  1.141600  0.315593  ...  0.131159  0.0  0.0  0.01762  0.075430  0.0   \n3  0.552962  0.795294  ...  0.000000  0.0  0.0  0.00000  0.072265  0.0   \n4  0.552962  0.795294  ...  0.000000  0.0  0.0  0.00000  0.071210  0.0   \n\n         52        53       54  targhet  \n0  0.553776  0.000000  0.00000        1  \n1  0.264787  0.214164  0.08707        1  \n2  0.196455  0.218923  0.01814        1  \n3  0.097516  0.000000  0.00000        1  \n4  0.096092  0.000000  0.00000        1  \n\n[5 rows x 55 columns]",
      "text/html": "<div>\n<style scoped>\n    .dataframe tbody tr th:only-of-type {\n        vertical-align: middle;\n    }\n\n    .dataframe tbody tr th {\n        vertical-align: top;\n    }\n\n    .dataframe thead th {\n        text-align: right;\n    }\n</style>\n<table border=\"1\" class=\"dataframe\">\n  <thead>\n    <tr style=\"text-align: right;\">\n      <th></th>\n      <th>1</th>\n      <th>2</th>\n      <th>3</th>\n      <th>4</th>\n      <th>5</th>\n      <th>6</th>\n      <th>7</th>\n      <th>8</th>\n      <th>9</th>\n      <th>10</th>\n      <th>...</th>\n      <th>46</th>\n      <th>47</th>\n      <th>48</th>\n      <th>49</th>\n      <th>50</th>\n      <th>51</th>\n      <th>52</th>\n      <th>53</th>\n      <th>54</th>\n      <th>targhet</th>\n    </tr>\n  </thead>\n  <tbody>\n    <tr>\n      <th>0</th>\n      <td>0.000000</td>\n      <td>1.04567</td>\n      <td>0.570084</td>\n      <td>0.0</td>\n      <td>0.309696</td>\n      <td>0.000000</td>\n      <td>0.000000</td>\n      <td>0.000000</td>\n      <td>0.000000</td>\n      <td>0.000000</td>\n      <td>...</td>\n      <td>0.000000</td>\n      <td>0.0</td>\n      <td>0.0</td>\n      <td>0.00000</td>\n      <td>0.000000</td>\n      <td>0.0</td>\n      <td>0.553776</td>\n      <td>0.000000</td>\n      <td>0.00000</td>\n      <td>1</td>\n    </tr>\n    <tr>\n      <th>1</th>\n      <td>0.309672</td>\n      <td>0.45748</td>\n      <td>0.445378</td>\n      <td>0.0</td>\n      <td>0.135492</td>\n      <td>0.427637</td>\n      <td>0.365548</td>\n      <td>0.120390</td>\n      <td>0.000000</td>\n      <td>1.186630</td>\n      <td>...</td>\n      <td>0.000000</td>\n      <td>0.0</td>\n      <td>0.0</td>\n      <td>0.00000</td>\n      <td>0.069628</td>\n      <td>0.0</td>\n      <td>0.264787</td>\n      <td>0.214164</td>\n      <td>0.08707</td>\n      <td>1</td>\n    </tr>\n    <tr>\n      <th>2</th>\n      <td>0.088478</td>\n      <td>0.00000</td>\n      <td>0.632436</td>\n      <td>0.0</td>\n      <td>1.190396</td>\n      <td>0.290182</td>\n      <td>0.330734</td>\n      <td>0.206383</td>\n      <td>1.141600</td>\n      <td>0.315593</td>\n      <td>...</td>\n      <td>0.131159</td>\n      <td>0.0</td>\n      <td>0.0</td>\n      <td>0.01762</td>\n      <td>0.075430</td>\n      <td>0.0</td>\n      <td>0.196455</td>\n      <td>0.218923</td>\n      <td>0.01814</td>\n      <td>1</td>\n    </tr>\n    <tr>\n      <th>3</th>\n      <td>0.000000</td>\n      <td>0.00000</td>\n      <td>0.000000</td>\n      <td>0.0</td>\n      <td>0.609715</td>\n      <td>0.000000</td>\n      <td>0.539619</td>\n      <td>1.083511</td>\n      <td>0.552962</td>\n      <td>0.795294</td>\n      <td>...</td>\n      <td>0.000000</td>\n      <td>0.0</td>\n      <td>0.0</td>\n      <td>0.00000</td>\n      <td>0.072265</td>\n      <td>0.0</td>\n      <td>0.097516</td>\n      <td>0.000000</td>\n      <td>0.00000</td>\n      <td>1</td>\n    </tr>\n    <tr>\n      <th>4</th>\n      <td>0.000000</td>\n      <td>0.00000</td>\n      <td>0.000000</td>\n      <td>0.0</td>\n      <td>0.609715</td>\n      <td>0.000000</td>\n      <td>0.539619</td>\n      <td>1.083511</td>\n      <td>0.552962</td>\n      <td>0.795294</td>\n      <td>...</td>\n      <td>0.000000</td>\n      <td>0.0</td>\n      <td>0.0</td>\n      <td>0.00000</td>\n      <td>0.071210</td>\n      <td>0.0</td>\n      <td>0.096092</td>\n      <td>0.000000</td>\n      <td>0.00000</td>\n      <td>1</td>\n    </tr>\n  </tbody>\n</table>\n<p>5 rows × 55 columns</p>\n</div>"
     },
     "execution_count": 2,
     "metadata": {},
     "output_type": "execute_result"
    }
   ],
   "source": [
    "dataset = pd.read_csv('spam_tfidf.csv', index_col=[0])\n",
    "dataset.head()"
   ],
   "metadata": {
    "collapsed": false
   }
  },
  {
   "cell_type": "code",
   "execution_count": 3,
   "outputs": [],
   "source": [
    "from sklearn.model_selection import train_test_split\n",
    "\n",
    "X = dataset.drop('targhet', axis=1)\n",
    "y = dataset['targhet']  # colonna che segna se è spam o meno\n",
    "X_train, X_test, y_train, y_test = train_test_split(X, y, test_size=0.20)"
   ],
   "metadata": {
    "collapsed": false
   }
  },
  {
   "cell_type": "markdown",
   "source": [
    "sklearn _BaseEstimator_ and _ClassifierMixin_ classes sono usati per creare un classificatore custom\n",
    "che può essere utilizzato con la libreria sklearn"
   ],
   "metadata": {
    "collapsed": false
   }
  },
  {
   "cell_type": "code",
   "execution_count": 15,
   "outputs": [],
   "source": [
    "def norm_single(param, mean, sigma):\n",
    "    if np.isclose(sigma,0):\n",
    "        return 1\n",
    "    return 1 / np.sqrt(2 * np.pi * sigma**2) * np.exp(-0.5 * (param - mean) ** 2 / sigma ** 2)\n",
    "\n",
    "\n",
    "class NaiveBayesGaussian(BaseEstimator, ClassifierMixin):\n",
    "    def fit(self, X, y):\n",
    "\n",
    "        self.mean = []  # primo media di ogni singola parola # uno per spam un per Ham\n",
    "        self.var = []\n",
    "\n",
    "        self.freq = []\n",
    "        self.classes = np.unique(y)\n",
    "        for c in self.classes:\n",
    "            self.freq.append((y == c).sum() / y.shape[0])\n",
    "            self.mean.append(X[y == c].mean(axis=0))\n",
    "            self.var.append(X[y == c].var(axis=0))\n",
    "\n",
    "    def predict(self, X):\n",
    "\n",
    "        size = X.shape[0]\n",
    "\n",
    "        y = np.zeros(size, dtype=self.classes.dtype)\n",
    "        probs = np.zeros(len(self.classes))\n",
    "\n",
    "        for i in range(size):\n",
    "            max_prob = 0\n",
    "            max_c = 0\n",
    "            for c in range(len(self.classes)):\n",
    "                probs = float(self.norm(X.values[i], c) * self.freq[c])\n",
    "\n",
    "                if probs > max_prob:\n",
    "                    max_prob = probs\n",
    "                    max_c = c\n",
    "            y[i] = self.classes[max_c]\n",
    "        return y\n",
    "\n",
    "    # return the profuct of the probabilities of each word in the sentence\n",
    "    def norm(self, new_doc: list, target: int):\n",
    "        new_doc = np.array(new_doc)\n",
    "        prob = 1\n",
    "        for i in range(len(new_doc)):\n",
    "            prob *= norm_single(new_doc[i], self.mean[target][i], self.var[target][i])\n",
    "        return prob"
   ],
   "metadata": {
    "collapsed": false
   }
  },
  {
   "cell_type": "code",
   "execution_count": 16,
   "outputs": [
    {
     "name": "stdout",
     "output_type": "stream",
     "text": [
      "Training time: 0.034195\n",
      "Prediction time: 2.650701\n",
      "Missclassified examples: 163\n",
      "Accuracy: 0.823\n",
      "[0.86550976 0.87826087 0.89130435 0.86304348 0.86956522 0.82391304\n",
      " 0.8326087  0.84565217 0.70652174 0.74130435]\n"
     ]
    },
    {
     "data": {
      "text/plain": "<Figure size 640x480 with 2 Axes>",
      "image/png": "[encoded data removed]"
     },
     "metadata": {},
     "output_type": "display_data"
    }
   ],
   "source": [
    "fig = plt.figure()\n",
    "\n",
    "#for i in range(1):\n",
    "nbg = NaiveBayesGaussian()\n",
    "start_time = time.time()\n",
    "nbg.fit(X_train, y_train)\n",
    "print('Training time: %f' % (time.time() - start_time))\n",
    "start_time = time.time()\n",
    "y_pred_nbg = nbg.predict(X_test)\n",
    "\n",
    "print('Prediction time: %f' % (time.time() - start_time))\n",
    "print('Missclassified examples: %d' % (y_test != y_pred_nbg).sum())\n",
    "print('Accuracy: %.3f' % accuracy_score(y_test, y_pred_nbg))\n",
    "score = cross_val_score(nbg, X, y, cv=10, scoring='accuracy')\n",
    "print(score)\n",
    "plt.title('Accuracy of Naive Bayes \\n Gaussian Classifier: %f' % score.mean())\n",
    "\n",
    "cm = confusion_matrix(y_test, y_pred_nbg)\n",
    "sn.heatmap(cm, annot=True, cmap=sn.color_palette(\"blend:#7AB,#EDA\", as_cmap=True))\n",
    "plt.xlabel('Predicted')\n",
    "plt.ylabel('Truth')\n",
    "plt.tight_layout()\n",
    "\n"
   ],
   "metadata": {
    "collapsed": false
   }
  },
  {
   "cell_type": "code",
   "execution_count": 10,
   "outputs": [
    {
     "data": {
      "text/plain": "<Figure size 640x480 with 0 Axes>"
     },
     "metadata": {},
     "output_type": "display_data"
    }
   ],
   "source": [
    "plt.savefig('confusion matrix gaussianoNB.png', bbox_inches='tight')"
   ],
   "metadata": {
    "collapsed": false
   }
  },
  {
   "cell_type": "code",
   "execution_count": null,
   "outputs": [],
   "source": [],
   "metadata": {
    "collapsed": false
   }
  }
 ],
 "metadata": {
  "kernelspec": {
   "display_name": "Python 3",
   "language": "python",
   "name": "python3"
  },
  "language_info": {
   "codemirror_mode": {
    "name": "ipython",
    "version": 2
   },
   "file_extension": ".py",
   "mimetype": "text/x-python",
   "name": "python",
   "nbconvert_exporter": "python",
   "pygments_lexer": "ipython2",
   "version": "2.7.6"
  }
 },
 "nbformat": 4,
 "nbformat_minor": 0
}
