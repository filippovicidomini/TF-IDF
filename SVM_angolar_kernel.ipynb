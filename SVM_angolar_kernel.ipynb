{
 "cells": [
  {
   "cell_type": "code",
   "execution_count": 2,
   "metadata": {
    "collapsed": true
   },
   "outputs": [],
   "source": [
    "import pandas as pd\n",
    "import numpy as np\n",
    "from sklearn.model_selection import train_test_split\n",
    "from sklearn.svm import SVC\n",
    "from sklearn.metrics import classification_report, accuracy_score\n",
    "import time"
   ]
  },
  {
   "cell_type": "code",
   "execution_count": 3,
   "outputs": [
    {
     "data": {
      "text/plain": "   Unnamed: 0         1        2         3    4         5         6         7  \\\n0           0  0.000000  1.04567  0.570084  0.0  0.309696  0.000000  0.000000   \n1           1  0.309672  0.45748  0.445378  0.0  0.135492  0.427637  0.365548   \n2           2  0.088478  0.00000  0.632436  0.0  1.190396  0.290182  0.330734   \n3           3  0.000000  0.00000  0.000000  0.0  0.609715  0.000000  0.539619   \n4           4  0.000000  0.00000  0.000000  0.0  0.609715  0.000000  0.539619   \n\n          8         9  ...        46   47   48       49        50   51  \\\n0  0.000000  0.000000  ...  0.000000  0.0  0.0  0.00000  0.000000  0.0   \n1  0.120390  0.000000  ...  0.000000  0.0  0.0  0.00000  0.069628  0.0   \n2  0.206383  1.141600  ...  0.131159  0.0  0.0  0.01762  0.075430  0.0   \n3  1.083511  0.552962  ...  0.000000  0.0  0.0  0.00000  0.072265  0.0   \n4  1.083511  0.552962  ...  0.000000  0.0  0.0  0.00000  0.071210  0.0   \n\n         52        53       54  targhet  \n0  0.553776  0.000000  0.00000        1  \n1  0.264787  0.214164  0.08707        1  \n2  0.196455  0.218923  0.01814        1  \n3  0.097516  0.000000  0.00000        1  \n4  0.096092  0.000000  0.00000        1  \n\n[5 rows x 56 columns]",
      "text/html": "<div>\n<style scoped>\n    .dataframe tbody tr th:only-of-type {\n        vertical-align: middle;\n    }\n\n    .dataframe tbody tr th {\n        vertical-align: top;\n    }\n\n    .dataframe thead th {\n        text-align: right;\n    }\n</style>\n<table border=\"1\" class=\"dataframe\">\n  <thead>\n    <tr style=\"text-align: right;\">\n      <th></th>\n      <th>Unnamed: 0</th>\n      <th>1</th>\n      <th>2</th>\n      <th>3</th>\n      <th>4</th>\n      <th>5</th>\n      <th>6</th>\n      <th>7</th>\n      <th>8</th>\n      <th>9</th>\n      <th>...</th>\n      <th>46</th>\n      <th>47</th>\n      <th>48</th>\n      <th>49</th>\n      <th>50</th>\n      <th>51</th>\n      <th>52</th>\n      <th>53</th>\n      <th>54</th>\n      <th>targhet</th>\n    </tr>\n  </thead>\n  <tbody>\n    <tr>\n      <th>0</th>\n      <td>0</td>\n      <td>0.000000</td>\n      <td>1.04567</td>\n      <td>0.570084</td>\n      <td>0.0</td>\n      <td>0.309696</td>\n      <td>0.000000</td>\n      <td>0.000000</td>\n      <td>0.000000</td>\n      <td>0.000000</td>\n      <td>...</td>\n      <td>0.000000</td>\n      <td>0.0</td>\n      <td>0.0</td>\n      <td>0.00000</td>\n      <td>0.000000</td>\n      <td>0.0</td>\n      <td>0.553776</td>\n      <td>0.000000</td>\n      <td>0.00000</td>\n      <td>1</td>\n    </tr>\n    <tr>\n      <th>1</th>\n      <td>1</td>\n      <td>0.309672</td>\n      <td>0.45748</td>\n      <td>0.445378</td>\n      <td>0.0</td>\n      <td>0.135492</td>\n      <td>0.427637</td>\n      <td>0.365548</td>\n      <td>0.120390</td>\n      <td>0.000000</td>\n      <td>...</td>\n      <td>0.000000</td>\n      <td>0.0</td>\n      <td>0.0</td>\n      <td>0.00000</td>\n      <td>0.069628</td>\n      <td>0.0</td>\n      <td>0.264787</td>\n      <td>0.214164</td>\n      <td>0.08707</td>\n      <td>1</td>\n    </tr>\n    <tr>\n      <th>2</th>\n      <td>2</td>\n      <td>0.088478</td>\n      <td>0.00000</td>\n      <td>0.632436</td>\n      <td>0.0</td>\n      <td>1.190396</td>\n      <td>0.290182</td>\n      <td>0.330734</td>\n      <td>0.206383</td>\n      <td>1.141600</td>\n      <td>...</td>\n      <td>0.131159</td>\n      <td>0.0</td>\n      <td>0.0</td>\n      <td>0.01762</td>\n      <td>0.075430</td>\n      <td>0.0</td>\n      <td>0.196455</td>\n      <td>0.218923</td>\n      <td>0.01814</td>\n      <td>1</td>\n    </tr>\n    <tr>\n      <th>3</th>\n      <td>3</td>\n      <td>0.000000</td>\n      <td>0.00000</td>\n      <td>0.000000</td>\n      <td>0.0</td>\n      <td>0.609715</td>\n      <td>0.000000</td>\n      <td>0.539619</td>\n      <td>1.083511</td>\n      <td>0.552962</td>\n      <td>...</td>\n      <td>0.000000</td>\n      <td>0.0</td>\n      <td>0.0</td>\n      <td>0.00000</td>\n      <td>0.072265</td>\n      <td>0.0</td>\n      <td>0.097516</td>\n      <td>0.000000</td>\n      <td>0.00000</td>\n      <td>1</td>\n    </tr>\n    <tr>\n      <th>4</th>\n      <td>4</td>\n      <td>0.000000</td>\n      <td>0.00000</td>\n      <td>0.000000</td>\n      <td>0.0</td>\n      <td>0.609715</td>\n      <td>0.000000</td>\n      <td>0.539619</td>\n      <td>1.083511</td>\n      <td>0.552962</td>\n      <td>...</td>\n      <td>0.000000</td>\n      <td>0.0</td>\n      <td>0.0</td>\n      <td>0.00000</td>\n      <td>0.071210</td>\n      <td>0.0</td>\n      <td>0.096092</td>\n      <td>0.000000</td>\n      <td>0.00000</td>\n      <td>1</td>\n    </tr>\n  </tbody>\n</table>\n<p>5 rows × 56 columns</p>\n</div>"
     },
     "execution_count": 3,
     "metadata": {},
     "output_type": "execute_result"
    }
   ],
   "source": [
    "data = pd.read_csv('spam_tfidf.csv')\n",
    "data.shape  # il dataset ha 4600 righe e 58 colonne\n",
    "data.head()  # vediamo le prime 5 righe del dataset"
   ],
   "metadata": {
    "collapsed": false
   }
  },
  {
   "cell_type": "code",
   "execution_count": 4,
   "outputs": [],
   "source": [
    "# data processing\n",
    "X = data.drop('targhet', axis=1)\n",
    "y = data['targhet']  # colonna che segna se è o meno spam\n",
    "\n",
    "X_train, X_test, y_train, y_test = train_test_split(X, y, test_size=0.20)"
   ],
   "metadata": {
    "collapsed": false
   }
  },
  {
   "cell_type": "code",
   "execution_count": 5,
   "outputs": [],
   "source": [
    "def angolar_kernel(X, Y):\n",
    "\n",
    "    return np.arccos(-np.dot(X, Y.T))"
   ],
   "metadata": {
    "collapsed": false
   }
  },
  {
   "cell_type": "code",
   "execution_count": 6,
   "outputs": [
    {
     "name": "stderr",
     "output_type": "stream",
     "text": [
      "/var/folders/01/gt1wx08s0xsdfpkbncl6qhsr0000gn/T/ipykernel_3163/3158670098.py:3: RuntimeWarning: invalid value encountered in arccos\n",
      "  return np.arccos(-np.dot(X, Y.T))\n"
     ]
    },
    {
     "ename": "ValueError",
     "evalue": "The dual coefficients or intercepts are not finite. The input data may contain large values and need to bepreprocessed.",
     "output_type": "error",
     "traceback": [
      "\u001B[0;31m---------------------------------------------------------------------------\u001B[0m",
      "\u001B[0;31mValueError\u001B[0m                                Traceback (most recent call last)",
      "Cell \u001B[0;32mIn[6], line 4\u001B[0m\n\u001B[1;32m      2\u001B[0m svcclassifier \u001B[38;5;241m=\u001B[39m SVC(kernel\u001B[38;5;241m=\u001B[39mangolar_kernel)\n\u001B[1;32m      3\u001B[0m start_time \u001B[38;5;241m=\u001B[39m time\u001B[38;5;241m.\u001B[39mtime()\n\u001B[0;32m----> 4\u001B[0m \u001B[43msvcclassifier\u001B[49m\u001B[38;5;241;43m.\u001B[39;49m\u001B[43mfit\u001B[49m\u001B[43m(\u001B[49m\u001B[43mX_train\u001B[49m\u001B[43m,\u001B[49m\u001B[43m \u001B[49m\u001B[43my_train\u001B[49m\u001B[43m)\u001B[49m\n\u001B[1;32m      5\u001B[0m \u001B[38;5;28mprint\u001B[39m(\u001B[38;5;124m'\u001B[39m\u001B[38;5;124mTraining time: \u001B[39m\u001B[38;5;132;01m%f\u001B[39;00m\u001B[38;5;124m'\u001B[39m \u001B[38;5;241m%\u001B[39m (time\u001B[38;5;241m.\u001B[39mtime() \u001B[38;5;241m-\u001B[39m start_time))\n",
      "File \u001B[0;32m/Library/Frameworks/Python.framework/Versions/3.11/lib/python3.11/site-packages/sklearn/svm/_base.py:270\u001B[0m, in \u001B[0;36mBaseLibSVM.fit\u001B[0;34m(self, X, y, sample_weight)\u001B[0m\n\u001B[1;32m    268\u001B[0m dual_coef_finiteness \u001B[38;5;241m=\u001B[39m np\u001B[38;5;241m.\u001B[39misfinite(dual_coef)\u001B[38;5;241m.\u001B[39mall()\n\u001B[1;32m    269\u001B[0m \u001B[38;5;28;01mif\u001B[39;00m \u001B[38;5;129;01mnot\u001B[39;00m (intercept_finiteness \u001B[38;5;129;01mand\u001B[39;00m dual_coef_finiteness):\n\u001B[0;32m--> 270\u001B[0m     \u001B[38;5;28;01mraise\u001B[39;00m \u001B[38;5;167;01mValueError\u001B[39;00m(\n\u001B[1;32m    271\u001B[0m         \u001B[38;5;124m\"\u001B[39m\u001B[38;5;124mThe dual coefficients or intercepts are not finite. \u001B[39m\u001B[38;5;124m\"\u001B[39m\n\u001B[1;32m    272\u001B[0m         \u001B[38;5;124m\"\u001B[39m\u001B[38;5;124mThe input data may contain large values and need to be\u001B[39m\u001B[38;5;124m\"\u001B[39m\n\u001B[1;32m    273\u001B[0m         \u001B[38;5;124m\"\u001B[39m\u001B[38;5;124mpreprocessed.\u001B[39m\u001B[38;5;124m\"\u001B[39m\n\u001B[1;32m    274\u001B[0m     )\n\u001B[1;32m    276\u001B[0m \u001B[38;5;66;03m# Since, in the case of SVC and NuSVC, the number of models optimized by\u001B[39;00m\n\u001B[1;32m    277\u001B[0m \u001B[38;5;66;03m# libSVM could be greater than one (depending on the input), `n_iter_`\u001B[39;00m\n\u001B[1;32m    278\u001B[0m \u001B[38;5;66;03m# stores an ndarray.\u001B[39;00m\n\u001B[1;32m    279\u001B[0m \u001B[38;5;66;03m# For the other sub-classes (SVR, NuSVR, and OneClassSVM), the number of\u001B[39;00m\n\u001B[1;32m    280\u001B[0m \u001B[38;5;66;03m# models optimized by libSVM is always one, so `n_iter_` stores an\u001B[39;00m\n\u001B[1;32m    281\u001B[0m \u001B[38;5;66;03m# integer.\u001B[39;00m\n\u001B[1;32m    282\u001B[0m \u001B[38;5;28;01mif\u001B[39;00m \u001B[38;5;28mself\u001B[39m\u001B[38;5;241m.\u001B[39m_impl \u001B[38;5;129;01min\u001B[39;00m [\u001B[38;5;124m\"\u001B[39m\u001B[38;5;124mc_svc\u001B[39m\u001B[38;5;124m\"\u001B[39m, \u001B[38;5;124m\"\u001B[39m\u001B[38;5;124mnu_svc\u001B[39m\u001B[38;5;124m\"\u001B[39m]:\n",
      "\u001B[0;31mValueError\u001B[0m: The dual coefficients or intercepts are not finite. The input data may contain large values and need to bepreprocessed."
     ]
    }
   ],
   "source": [
    "# qui faccio il learning\n",
    "svcclassifier = SVC(kernel=angolar_kernel)\n",
    "start_time = time.time()\n",
    "svcclassifier.fit(X_train, y_train)\n",
    "print('Training time: %f' % (time.time() - start_time))"
   ],
   "metadata": {
    "collapsed": false
   }
  },
  {
   "cell_type": "code",
   "execution_count": 7,
   "outputs": [
    {
     "name": "stdout",
     "output_type": "stream",
     "text": [
      "[1 1 1 1 1 1 1 1 1 1 1 1 1 1 1 1 1 1 1 1 1 1 1 1 1 1 1 1 1 1 1 1 1 1 1 1 1\n",
      " 1 1 1 1 1 1 1 1 1 1 1 1 1 1 1 1 1 1 1 1 1 1 1 1 1 1 1 1 1 1 1 1 1 1 1 1 1\n",
      " 1 1 1 1 1 1 1 1 1 1 1 1 1 1 1 1 1 1 1 1 1 1 1 1 1 1 1 1 1 1 1 1 1 1 1 1 1\n",
      " 1 1 1 1 1 1 1 1 1 1 1 1 1 1 1 1 1 1 1 1 1 1 1 1 1 1 1 1 1 1 1 1 1 1 1 1 1\n",
      " 1 1 1 1 1 1 1 1 1 1 1 1 1 1 1 1 1 1 1 1 1 1 1 1 1 1 1 1 1 1 1 1 1 1 1 1 1\n",
      " 1 1 1 1 1 1 1 1 1 1 1 1 1 1 1 1 1 1 1 1 1 1 1 1 1 1 1 1 1 1 1 1 1 1 1 1 1\n",
      " 1 1 1 1 1 1 1 1 1 1 1 1 1 1 1 1 1 1 1 1 1 1 1 1 1 1 1 1 1 1 1 1 1 1 1 1 1\n",
      " 1 1 1 1 1 1 1 1 1 1 1 1 1 1 1 1 1 1 1 1 1 1 1 1 1 1 1 1 1 1 1 1 1 1 1 1 1\n",
      " 1 1 1 1 1 1 1 1 1 1 1 1 1 1 1 1 1 1 1 1 1 1 1 1 1 1 1 1 1 1 1 1 1 1 1 1 1\n",
      " 1 1 1 1 1 1 1 1 1 1 1 1 1 1 1 1 1 1 1 1 1 1 1 1 1 1 1 1 1 1 1 1 1 1 1 1 1\n",
      " 1 1 1 1 1 1 1 1 1 1 1 1 1 1 1 1 1 1 1 1 1 1 1 1 1 1 1 1 1 1 1 1 1 1 1 1 1\n",
      " 1 1 1 1 1 1 1 1 1 1 1 1 1 1 1 1 1 1 1 1 1 1 1 1 1 1 1 1 1 1 1 1 1 1 1 1 1\n",
      " 1 1 1 1 1 1 1 1 1 1 1 1 1 1 1 1 1 1 1 1 1 1 1 1 1 1 1 1 1 1 1 1 1 1 1 1 1\n",
      " 1 1 1 1 1 1 1 1 1 1 1 1 1 1 1 1 1 1 1 1 1 1 1 1 1 1 1 1 1 1 1 1 1 1 1 1 1\n",
      " 1 1 1 1 1 1 1 1 1 1 1 1 1 1 1 1 1 1 1 1 1 1 1 1 1 1 1 1 1 1 1 1 1 1 1 1 1\n",
      " 1 1 1 1 1 1 1 1 1 1 1 1 1 1 1 1 1 1 1 1 1 1 1 1 1 1 1 1 1 1 1 1 1 1 1 1 1\n",
      " 1 1 1 1 1 1 1 1 1 1 1 1 1 1 1 1 1 1 1 1 1 1 1 1 1 1 1 1 1 1 1 1 1 1 1 1 1\n",
      " 1 1 1 1 1 1 1 1 1 1 1 1 1 1 1 1 1 1 1 1 1 1 1 1 1 1 1 1 1 1 1 1 1 1 1 1 1\n",
      " 1 1 1 1 1 1 1 1 1 1 1 1 1 1 1 1 1 1 1 1 1 1 1 1 1 1 1 1 1 1 1 1 1 1 1 1 1\n",
      " 1 1 1 1 1 1 1 1 1 1 1 1 1 1 1 1 1 1 1 1 1 1 1 1 1 1 1 1 1 1 1 1 1 1 1 1 1\n",
      " 1 1 1 1 1 1 1 1 1 1 1 1 1 1 1 1 1 1 1 1 1 1 1 1 1 1 1 1 1 1 1 1 1 1 1 1 1\n",
      " 1 1 1 1 1 1 1 1 1 1 1 1 1 1 1 1 1 1 1 1 1 1 1 1 1 1 1 1 1 1 1 1 1 1 1 1 1\n",
      " 1 1 1 1 1 1 1 1 1 1 1 1 1 1 1 1 1 1 1 1 1 1 1 1 1 1 1 1 1 1 1 1 1 1 1 1 1\n",
      " 1 1 1 1 1 1 1 1 1 1 1 1 1 1 1 1 1 1 1 1 1 1 1 1 1 1 1 1 1 1 1 1 1 1 1 1 1\n",
      " 1 1 1 1 1 1 1 1 1 1 1 1 1 1 1 1 1 1 1 1 1 1 1 1 1 1 1 1 1 1 1 1 1]\n",
      "Prediction time: 0.171405\n",
      "Missclassified examples: 560\n",
      "Accuracy: 0.392\n"
     ]
    },
    {
     "name": "stderr",
     "output_type": "stream",
     "text": [
      "/var/folders/01/gt1wx08s0xsdfpkbncl6qhsr0000gn/T/ipykernel_3163/3158670098.py:3: RuntimeWarning: invalid value encountered in arccos\n",
      "  return np.arccos(-np.dot(X, Y.T))\n"
     ]
    }
   ],
   "source": [
    "start_time = time.time()\n",
    "y_predict = svcclassifier.predict(X_test)\n",
    "print(y_predict)\n",
    "print('Prediction time: %f' % (time.time() - start_time))\n",
    "print('Missclassified examples: %d' % (y_test != y_predict).sum())\n",
    "print('Accuracy: %.3f' % accuracy_score(y_test, y_predict))"
   ],
   "metadata": {
    "collapsed": false
   }
  },
  {
   "cell_type": "code",
   "execution_count": 7,
   "outputs": [
    {
     "name": "stdout",
     "output_type": "stream",
     "text": [
      "              precision    recall  f1-score   support\n",
      "\n",
      "           0       0.63      1.00      0.77       549\n",
      "           1       0.96      0.12      0.22       371\n",
      "\n",
      "    accuracy                           0.64       920\n",
      "   macro avg       0.79      0.56      0.49       920\n",
      "weighted avg       0.76      0.64      0.55       920\n",
      "\n"
     ]
    }
   ],
   "source": [
    "print(classification_report(y_test, y_predict))"
   ],
   "metadata": {
    "collapsed": false
   }
  }
 ],
 "metadata": {
  "kernelspec": {
   "display_name": "Python 3",
   "language": "python",
   "name": "python3"
  },
  "language_info": {
   "codemirror_mode": {
    "name": "ipython",
    "version": 2
   },
   "file_extension": ".py",
   "mimetype": "text/x-python",
   "name": "python",
   "nbconvert_exporter": "python",
   "pygments_lexer": "ipython2",
   "version": "2.7.6"
  }
 },
 "nbformat": 4,
 "nbformat_minor": 0
}
